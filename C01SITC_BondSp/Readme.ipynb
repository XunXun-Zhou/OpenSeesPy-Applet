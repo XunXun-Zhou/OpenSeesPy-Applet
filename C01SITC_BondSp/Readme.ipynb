{
 "cells": [
  {
   "cell_type": "code",
   "execution_count": null,
   "metadata": {},
   "outputs": [],
   "source": [
    "# Illustration of the Fiber Section\n",
    "import openseespy.opensees as ops\n",
    "import opsvis as opsv\n",
    "import matplotlib.pyplot as plt\n",
    "import numpy as np\n",
    "\n",
    "# Units: N mm t MPa\n",
    "\n",
    "ops.wipe()\n",
    "ops.model('basic', '-ndm', 2, '-ndf', 3)\n",
    "\n",
    "# Material Properties\n",
    "# ======================================================\n",
    "fc = 26.38  # Concerte Compressive Strength\n",
    "fyl = 497   # Yielding Strength of Longitudinal Bars\n",
    "fyt = 459.5 # Yielding Strength of Transverse Ties\n",
    "# ======================================================\n",
    "\n",
    "# Specimen Geometry (Square Section)\n",
    "# ======================================================\n",
    "Height = 1400 # Height of the Column\n",
    "Width = 400   # Width of the Column\n",
    "Cover = 34    # Thickness of Concrete Cover\n",
    "# ======================================================\n",
    "\n",
    "# Reinforcement Configuration\n",
    "# ======================================================\n",
    "dlongi = 19.05 # Diameter of the Longitudinal Bars\n",
    "dtrans = 6.35  # Diamter of the Transverse Bars\n",
    "strans = 54    # Spacing of the Transverse Bars\n",
    "# ======================================================\n",
    "\n",
    "# Axial Force (Approximately 0.1 * fc * Ag)\n",
    "# ======================================================\n",
    "axial = -450e3 # Magnitude of the axial force\n",
    "# ======================================================\n",
    "\n",
    "# Material Definition\n",
    "# ======================================================\n",
    "## Unconfined Concrete\n",
    "## ops.uniaxialMaterial('Concrete01', matTag, fpc, epsc0, fpcu, epsU)\n",
    "ops.uniaxialMaterial('Concrete01', 1, fc, 0.002, 0.2 * fc, 0.006)\n",
    "\n",
    "## Confined Concrete\n",
    "## ops.uniaxialMaterial('Concrete01', matTag, fpc, epsc0, fpcu, epsU)\n",
    "ops.uniaxialMaterial('Concrete01', 2, 1.2 * fc, 0.005, 0.8 * 1.2 * fc, 0.015)\n",
    "\n",
    "## Longitudinal Bars\n",
    "## ops.uniaxialMaterial('Steel02', matTag, Fy, E0, b, *params, a1=a2*Fy/E0, a2=1.0, a3=a4*Fy/E0, a4=1.0, sigInit=0.0)\n",
    "ops.uniaxialMaterial('Steel02', 3, fyl, 200e3, 0.01, 20, 0.925, 0.15)\n",
    "# ======================================================\n",
    "\n",
    "fib_sec_2 = [['section', 'Fiber', 1],\n",
    "             ['patch', 'rect', 2, 10, 10, Width / 2 - Cover, Width / 2 - Cover, -Width / 2 + Cover, -Width / 2 + Cover],\n",
    "             ['patch', 'rect', 1, 10, 1, Width / 2, Width / 2, -Width / 2, Width / 2 - Cover],\n",
    "             ['patch', 'rect', 1, 10, 1, Width / 2, -Width / 2 + Cover, -Width / 2, -Width / 2],\n",
    "             ['patch', 'rect', 1, 1, 8, -Width / 2 + Cover, Width / 2 - Cover, -Width / 2, -Width / 2 + Cover],\n",
    "             ['patch', 'rect', 1, 1, 8, Width / 2, Width / 2 - Cover, Width / 2 - Cover, -Width / 2 + Cover],\n",
    "             ['layer', 'straight', 3, 4, 0.25 * np.pi * dlongi**2, -Width / 2 + Cover + dlongi / 2, Width / 2 - Cover - dlongi / 2, Width / 2 - Cover - dlongi / 2, Width / 2 - Cover - dlongi / 2],\n",
    "             ['layer', 'straight', 3, 4, 0.25 * np.pi * dlongi**2, -Width / 2 + Cover + dlongi / 2, -Width / 2 + Cover + dlongi / 2, Width / 2 - Cover - dlongi / 2, -Width / 2 + Cover + dlongi / 2],\n",
    "             ['layer', 'straight', 3, 2, 0.25 * np.pi * dlongi**2, -Width / 2 + Cover + dlongi / 2, Width / 2 - Cover - 1 / 3 * (Width - 2 * Cover - dlongi) - dlongi / 2, Width / 2 - Cover - dlongi / 2, Width / 2 - Cover - 1 / 3 * (Width - 2 * Cover - dlongi) - dlongi / 2],\n",
    "             ['layer', 'straight', 3, 2, 0.25 * np.pi * dlongi**2, -Width / 2 + Cover + dlongi / 2, -Width / 2 + Cover + 1 / 3 * (Width - 2 * Cover - dlongi) + dlongi / 2, Width / 2 - Cover - dlongi / 2, -Width / 2 + Cover + 1 / 3 * (Width - 2 * Cover - dlongi) + dlongi / 2]]\n",
    "matcolor = ['r', 'lightgrey', 'gold', 'w', 'w', 'w']\n",
    "opsv.plot_fiber_section(fib_sec_2, matcolor=matcolor)\n",
    "plt.axis('equal')"
   ]
  },
  {
   "cell_type": "code",
   "execution_count": null,
   "metadata": {},
   "outputs": [],
   "source": [
    "# Comparison of the Numerical and Experimental Results\n",
    "import numpy as np\n",
    "import matplotlib.pyplot as plt\n",
    "\n",
    "# 'Mo and Wang, 2000 Test C3-1'\n",
    "expdata = np.loadtxt('exp.txt', skiprows = 2)\n",
    "Fexp = np.append(np.zeros(1),expdata[:, 1])\n",
    "dexp = np.append(np.zeros(1),expdata[:, 0])\n",
    "\n",
    "numdata = np.loadtxt('out_01SITC_full.txt')\n",
    "Fnum = np.append(np.zeros(1),numdata[:, 0]) / 1e3 # Convertion from N to kN\n",
    "dnum = np.append(np.zeros(1),numdata[:, 1])\n",
    "\n",
    "plt.plot(dexp[0:500], Fexp[0:500])\n",
    "plt.plot(dnum[0:1400] / 0.03937, Fnum[0:1400] / 0.2248 * 1000, alpha = 0.8)\n",
    "\n",
    "plt.xlabel('Displacement(mm)')\n",
    "plt.ylabel('Lateral Force(kN)')\n",
    "plt.title('Concrete01SITC')\n"
   ]
  },
  {
   "cell_type": "markdown",
   "metadata": {},
   "source": [
    "This command is used to construct a uniaxial material object for capturing strain penetration effects at the column-to-footing, column-to-bridge bent caps, and wall-to-footing intersections. In these cases, the bond slip associated with strain penetration typically occurs along a portion of the anchorage length. This model can also be applied to the beam end regions, where the strain penetration may include slippage of the bar along the entire anchorage length, but the model parameters should be chosen appropriately.\n",
    "\n",
    "This model is for fully anchored steel reinforcement bars that experience bond slip along a portion of the anchorage length due to strain penetration effects, which are usually the case for column and wall longitudinal bars anchored into footings or bridge joints\n",
    "\n",
    "```opensees\n",
    "uniaxialMaterial Bond_SP01 $matTag $Fy $Sy $Fu $Su $b $R\n",
    "\n",
    "$matTag\tinteger tag identifying material\n",
    "$Fy\tYield strength of the reinforcement steel\n",
    "$Sy\tRebar slip at member interface under yield stress. (see NOTES below)\n",
    "$Fu\tUltimate strength of the reinforcement steel\n",
    "$Su\tRebar slip at the loaded end at the bar fracture strength (30~40)*Sy\n",
    "$b\tInitial hardening ratio in the monotonic slip vs. bar stress response (0.3~0.5)\n",
    "$R\tPinching factor for the cyclic slip vs. bar response (0.5~1.0)\n",
    "```\n",
    "\n",
    "***NOTE: Need parameters in [ksi kip inch]!!!***"
   ]
  },
  {
   "cell_type": "markdown",
   "metadata": {},
   "source": [
    "in which, the rebar slip $S_y$ can be obtained by\n",
    "\n",
    "$$\n",
    "S_y = 2.54\\bigg( \\displaystyle{\\frac{d_b}{8437}}\\displaystyle{\\frac{F_y}{\\sqrt{f_c^{'}}}}(2\\alpha + 1) \\bigg)^{1/\\alpha} + 0.34 \\tag{1}\n",
    "$$\n",
    "\n",
    "In Equation (1), $d_b$ is the diameter of the rebar; $\\alpha$ is the parameter used in the local bond-slip relation and can be taken as 0.4 in accordance with CEB-FIP Model Code 90. Note the length is measured in mm, while the strength in MPa."
   ]
  },
  {
   "cell_type": "code",
   "execution_count": null,
   "metadata": {},
   "outputs": [],
   "source": [
    "# Rebar Diameter (mm) and Material Strength (MPa)\n",
    "# ======================================================\n",
    "db = 19.05\n",
    "Fy = 497\n",
    "fc = 26.38\n",
    "# ======================================================\n",
    "\n",
    "alpha = 0.4\n",
    "\n",
    "# Rebar Slip (mm)\n",
    "# ======================================================\n",
    "Sy = 2.54 * (db / 8437 * Fy / (fc**0.5) * (2 * alpha + 1))**(1 / alpha) + 0.34\n",
    "# ======================================================\n",
    "\n",
    "Sy"
   ]
  },
  {
   "cell_type": "markdown",
   "metadata": {},
   "source": [
    "The zero-length section element in OpenSees is assumed to have ***a unit length*** such that the element deformations (i.e., elongation and rotation) are equal to the section deformations (i.e., axial strain and curvature). The material model for the steel fibers in the zero-length section element represents the bar slip instead of strain for a given bar stress. The uniaxial material model Bond_SP01 is developed for steel fibers in the zero-length section elements.\n",
    "\n",
    "Similar to the model proposed for the steel fibers, a material model describing the monotonic response and hysteretic rules is also required for the concrete fibers. The combination of using the zero-length section element and enforcing the plane section assumption at the end of a flexural member impose **high deformations to the extreme concrete fibers in the zero-length element**. These deformations would likely correspond to concrete compressive strains significantly greater than the strain capacity stipulated by typical confined concrete models. Such high compressive strains at the end of flexural members are possible because of additional confinement effects expected from the adjoining members and because of complex localized deformation at the member end. Without further proof, it is suggested that the concrete fibers in the zero-length section element follow a concrete model in OpenSees. **To accommodate the large deformations expected to the extreme concrete fibers in the zero-length element, this concrete model may be assumed to follow a perfectly plastic behavior once the concrete strength reduces to 80% of the confined compressive strength**. A parametric study has indicated that the simulation results would not be very sensitive to the compressive strain chosen to trigger the perfectly plastic behavior for the concrete fibers in the zero-length section element."
   ]
  }
 ],
 "metadata": {
  "kernelspec": {
   "display_name": "Python 3.8.5 ('base')",
   "language": "python",
   "name": "python3"
  },
  "language_info": {
   "codemirror_mode": {
    "name": "ipython",
    "version": 3
   },
   "file_extension": ".py",
   "mimetype": "text/x-python",
   "name": "python",
   "nbconvert_exporter": "python",
   "pygments_lexer": "ipython3",
   "version": "3.8.5"
  },
  "orig_nbformat": 4,
  "vscode": {
   "interpreter": {
    "hash": "88279d2366fe020547cde40dd65aa0e3aa662a6ec1f3ca12d88834876c85e1a6"
   }
  }
 },
 "nbformat": 4,
 "nbformat_minor": 2
}
